{
 "cells": [
  {
   "cell_type": "markdown",
   "metadata": {
    "collapsed": true
   },
   "source": [
    "# ANALYZING PROFITABLE APPLICATIONS IN THE APP-STORE AND GOOGLE STORE.\n",
    "\n",
    "The main objective in this project is to analyze information about applications both in the google and app-store. With an end-goal of projecting and understanding what characteristics makes an app more profitable in comparison to another.\n",
    "\n",
    "The information gained from this analysis *might* allow developers in a company to know what apps are more likely to gain users and have a greater revenue turnover. \n",
    "\n",
    "Two main data sources used for this project:\n",
    "1. Apple Store Data from [Ramanthan on Kaggle](https://www.kaggle.com/ramamet4/app-store-apple-data-set-10k-apps/home). \n",
    "> This Data collected in July 2017 contains information about Apple iOS mobile applications and consists of 7197 rows, 16 columns. \n",
    "\n",
    "2. Google Playstore Data from [Lavanya Gupta on Kaggle](https://www.kaggle.com/lava18/google-play-store-apps/home)\n",
    "> This Data collected in August 2018 contains information about Google Playstore applications and consists of approximately 10,000 rows and 13 columns."
   ]
  },
  {
   "cell_type": "markdown",
   "metadata": {},
   "source": [
    "### Step 1: Open the Datasets"
   ]
  },
  {
   "cell_type": "code",
   "execution_count": 1,
   "metadata": {
    "collapsed": false,
    "scrolled": true
   },
   "outputs": [
    {
     "data": {
      "text/plain": [
       "<_io.TextIOWrapper name='googleplaystore.csv' mode='r' encoding='UTF-8'>"
      ]
     },
     "execution_count": 1,
     "metadata": {},
     "output_type": "execute_result"
    }
   ],
   "source": [
    "open_file1 = open('AppleStore.csv')\n",
    "open_file2 = open('googleplaystore.csv')\n",
    "open_file1\n",
    "open_file2"
   ]
  },
  {
   "cell_type": "markdown",
   "metadata": {},
   "source": [
    "### Step 2: Store the Dataset in a List"
   ]
  },
  {
   "cell_type": "code",
   "execution_count": 2,
   "metadata": {
    "collapsed": false
   },
   "outputs": [],
   "source": [
    "from csv import reader\n",
    "#APP STORE\n",
    "read_file = reader(open_file1)\n",
    "appstore_data = list(read_file)\n",
    "appstore_header = appstore_data [0]\n",
    "appstore_data = appstore_data [1:]\n",
    "#Divide the column and rows data\n",
    "read_file = reader(open_file2)\n",
    "playstore_data = list(read_file)\n",
    "playstore_header = playstore_data [0]\n",
    "playstore_data = playstore_data [1:]"
   ]
  },
  {
   "cell_type": "markdown",
   "metadata": {},
   "source": [
    "### Step 3: Explore the Dataset\n",
    "1. Create a function foe exploring data\n",
    "2. Print the first 5 rows\n",
    "3. Get the number of rows and columns of each data set\n",
    "4. Print the column names of each Dataset"
   ]
  },
  {
   "cell_type": "code",
   "execution_count": 3,
   "metadata": {
    "collapsed": true
   },
   "outputs": [],
   "source": [
    "\n",
    "def explore_data(dataset, start, end, rows_and_columns=False):\n",
    "    dataset_slice = dataset[start:end]    \n",
    "    for row in dataset_slice:\n",
    "        print(row)\n",
    "        print('\\n') # adds a new (empty) line between rows\n",
    "        \n",
    "    if rows_and_columns:\n",
    "        print('Number of rows:', len(dataset))\n",
    "        print('Number of columns:', len(dataset[0]))"
   ]
  },
  {
   "cell_type": "code",
   "execution_count": 4,
   "metadata": {
    "collapsed": false
   },
   "outputs": [
    {
     "name": "stdout",
     "output_type": "stream",
     "text": [
      "['id', 'track_name', 'size_bytes', 'currency', 'price', 'rating_count_tot', 'rating_count_ver', 'user_rating', 'user_rating_ver', 'ver', 'cont_rating', 'prime_genre', 'sup_devices.num', 'ipadSc_urls.num', 'lang.num', 'vpp_lic']\n",
      "\n",
      "\n",
      "['284882215', 'Facebook', '389879808', 'USD', '0.0', '2974676', '212', '3.5', '3.5', '95.0', '4+', 'Social Networking', '37', '1', '29', '1']\n",
      "\n",
      "\n",
      "['389801252', 'Instagram', '113954816', 'USD', '0.0', '2161558', '1289', '4.5', '4.0', '10.23', '12+', 'Photo & Video', '37', '0', '29', '1']\n",
      "\n",
      "\n",
      "['529479190', 'Clash of Clans', '116476928', 'USD', '0.0', '2130805', '579', '4.5', '4.5', '9.24.12', '9+', 'Games', '38', '5', '18', '1']\n",
      "\n",
      "\n",
      "Number of rows: 7197\n",
      "Number of columns: 16\n"
     ]
    }
   ],
   "source": [
    "print(appstore_header)\n",
    "print('\\n')\n",
    "explore_data(appstore_data, 0, 3, True)\n"
   ]
  },
  {
   "cell_type": "code",
   "execution_count": 5,
   "metadata": {
    "collapsed": false
   },
   "outputs": [
    {
     "name": "stdout",
     "output_type": "stream",
     "text": [
      "['App', 'Category', 'Rating', 'Reviews', 'Size', 'Installs', 'Type', 'Price', 'Content Rating', 'Genres', 'Last Updated', 'Current Ver', 'Android Ver']\n",
      "\n",
      "\n",
      "['Photo Editor & Candy Camera & Grid & ScrapBook', 'ART_AND_DESIGN', '4.1', '159', '19M', '10,000+', 'Free', '0', 'Everyone', 'Art & Design', 'January 7, 2018', '1.0.0', '4.0.3 and up']\n",
      "\n",
      "\n",
      "['Coloring book moana', 'ART_AND_DESIGN', '3.9', '967', '14M', '500,000+', 'Free', '0', 'Everyone', 'Art & Design;Pretend Play', 'January 15, 2018', '2.0.0', '4.0.3 and up']\n",
      "\n",
      "\n",
      "['U Launcher Lite – FREE Live Cool Themes, Hide Apps', 'ART_AND_DESIGN', '4.7', '87510', '8.7M', '5,000,000+', 'Free', '0', 'Everyone', 'Art & Design', 'August 1, 2018', '1.2.4', '4.0.3 and up']\n",
      "\n",
      "\n",
      "Number of rows: 10841\n",
      "Number of columns: 13\n"
     ]
    }
   ],
   "source": [
    "print(playstore_header)\n",
    "print('\\n')\n",
    "explore_data(playstore_data, 0, 3, True)"
   ]
  },
  {
   "cell_type": "code",
   "execution_count": 6,
   "metadata": {
    "collapsed": false
   },
   "outputs": [
    {
     "name": "stdout",
     "output_type": "stream",
     "text": [
      "Number of rows and columns for Appstore Data:\n",
      "Columns: 7197\n",
      "Rows: 16\n",
      "\n",
      "\n",
      "Number of rows and columns for Playstore Data:\n",
      "Columns: 10841\n",
      "Rows: 13\n"
     ]
    }
   ],
   "source": [
    "print('Number of rows and columns for Appstore Data:')\n",
    "print('Columns' + ': '+ str(len(appstore_data)))\n",
    "print('Rows' + ': '+ str(len(appstore_data[0])))\n",
    "print('\\n')\n",
    "print('Number of rows and columns for Playstore Data:')\n",
    "print('Columns' + ': '+ str(len(playstore_data)))\n",
    "print('Rows' + ': '+ str(len(playstore_data[0])))"
   ]
  },
  {
   "cell_type": "code",
   "execution_count": 7,
   "metadata": {
    "collapsed": false
   },
   "outputs": [
    {
     "name": "stdout",
     "output_type": "stream",
     "text": [
      "Column Names for Appstore Data\n",
      "['id', 'track_name', 'size_bytes', 'currency', 'price', 'rating_count_tot', 'rating_count_ver', 'user_rating', 'user_rating_ver', 'ver', 'cont_rating', 'prime_genre', 'sup_devices.num', 'ipadSc_urls.num', 'lang.num', 'vpp_lic']\n"
     ]
    }
   ],
   "source": [
    "print('Column Names for Appstore Data')\n",
    "print(appstore_header)"
   ]
  },
  {
   "cell_type": "code",
   "execution_count": 8,
   "metadata": {
    "collapsed": false
   },
   "outputs": [
    {
     "name": "stdout",
     "output_type": "stream",
     "text": [
      "Column Names for Playstore Data\n",
      "['App', 'Category', 'Rating', 'Reviews', 'Size', 'Installs', 'Type', 'Price', 'Content Rating', 'Genres', 'Last Updated', 'Current Ver', 'Android Ver']\n"
     ]
    }
   ],
   "source": [
    "print('Column Names for Playstore Data')\n",
    "print(playstore_header)"
   ]
  },
  {
   "cell_type": "markdown",
   "metadata": {
    "collapsed": true
   },
   "source": [
    "### Step 4: Data Cleaning\n",
    "Prior to data analysis, accurate and correct representation of data has to be ensured in order to make the analysation process faster, cleaner and apt.\n",
    "\n",
    "This step will make use of syntax from basic python language to:\n",
    "1. Detect inaccurate data, correct or remove it\n",
    "2. Detect duplicate data, and remove the duplicates"
   ]
  },
  {
   "cell_type": "markdown",
   "metadata": {},
   "source": [
    "### 4a: Addressing error in a row from google play store data set.\n",
    "\n",
    "Fortunately, in the discussion section of the google store dataset, there was a finding for a missing 'Category' column for the 10472th row. \n",
    "\n",
    "This anormal occurence makes the row, shorter than it should be and shifted the columns that should come after Ratings an index less than they should be.\n",
    "\n",
    "To fix this issue, we first get the data of the row."
   ]
  },
  {
   "cell_type": "code",
   "execution_count": 9,
   "metadata": {
    "collapsed": false
   },
   "outputs": [
    {
     "name": "stdout",
     "output_type": "stream",
     "text": [
      "['Life Made WI-Fi Touchscreen Photo Frame', '1.9', '19', '3.0M', '1,000+', 'Free', '0', 'Everyone', '', 'February 11, 2018', '1.0.19', '4.0 and up']\n"
     ]
    }
   ],
   "source": [
    "print(playstore_data[10472])"
   ]
  },
  {
   "cell_type": "markdown",
   "metadata": {},
   "source": [
    "The steps to deal with this anomaly, could be one of two:\n",
    "1. Delete the row\n",
    "2. Update or modify the row.\n",
    "\n",
    "The first step will be used, i.e the row will be deleted"
   ]
  },
  {
   "cell_type": "code",
   "execution_count": 10,
   "metadata": {
    "collapsed": false
   },
   "outputs": [
    {
     "name": "stdout",
     "output_type": "stream",
     "text": [
      "10841\n",
      "10840\n"
     ]
    }
   ],
   "source": [
    "print(len(playstore_data))\n",
    "del playstore_data[10472]\n",
    "print(len(playstore_data))"
   ]
  },
  {
   "cell_type": "markdown",
   "metadata": {
    "collapsed": true
   },
   "source": [
    "### 4b: Removing Duplicate Rows\n",
    "Most datasets tend to be populated with duplicate rows, to examine if such exists in any of the data set. We will check the  and print the name of an app in one of the data set."
   ]
  },
  {
   "cell_type": "code",
   "execution_count": 11,
   "metadata": {
    "collapsed": false
   },
   "outputs": [
    {
     "name": "stdout",
     "output_type": "stream",
     "text": [
      "['Instagram', 'SOCIAL', '4.5', '66577313', 'Varies with device', '1,000,000,000+', 'Free', '0', 'Teen', 'Social', 'July 31, 2018', 'Varies with device', 'Varies with device']\n",
      "['Instagram', 'SOCIAL', '4.5', '66577446', 'Varies with device', '1,000,000,000+', 'Free', '0', 'Teen', 'Social', 'July 31, 2018', 'Varies with device', 'Varies with device']\n",
      "['Instagram', 'SOCIAL', '4.5', '66577313', 'Varies with device', '1,000,000,000+', 'Free', '0', 'Teen', 'Social', 'July 31, 2018', 'Varies with device', 'Varies with device']\n",
      "['Instagram', 'SOCIAL', '4.5', '66509917', 'Varies with device', '1,000,000,000+', 'Free', '0', 'Teen', 'Social', 'July 31, 2018', 'Varies with device', 'Varies with device']\n"
     ]
    }
   ],
   "source": [
    "for app in playstore_data:\n",
    "    name = app[0]\n",
    "    if name == 'Instagram':\n",
    "        print(app)"
   ]
  },
  {
   "cell_type": "markdown",
   "metadata": {},
   "source": [
    "From the above output, we can see that there are 4 rows, with the name of Instagram.\n",
    "\n",
    "A quick look at the output, makes us see that all the data in the row is the same except for the index[3] which is the 'Rating' column.\n",
    "\n",
    "The next step is to seperate unique apps from duplicated apps in the playstore dataset. This will further help us in knowing the number of duplicate apps. "
   ]
  },
  {
   "cell_type": "code",
   "execution_count": 12,
   "metadata": {
    "collapsed": false
   },
   "outputs": [
    {
     "name": "stdout",
     "output_type": "stream",
     "text": [
      "Number of duplicate apps: 1181\n",
      "\n",
      "\n"
     ]
    }
   ],
   "source": [
    "duplicate_playstore_apps = []\n",
    "unique_playstore_apps = []\n",
    "\n",
    "for app in playstore_data:\n",
    "    name = app[0]\n",
    "    if name in unique_playstore_apps:\n",
    "        duplicate_playstore_apps.append(name)\n",
    "    else:\n",
    "        unique_playstore_apps.append(name)\n",
    "print('Number of duplicate apps:', len(duplicate_playstore_apps))\n",
    "print('\\n')"
   ]
  },
  {
   "cell_type": "markdown",
   "metadata": {},
   "source": [
    "As seen above, there are 1181 duplicate rows in the playstore dataset. For each of these duplicate rows, only one copy of the data with the same app name will be left in the playstore dataset. \n",
    "\n",
    "Since all the duplicate apps, as seen in the 'Instagram' example above have the same data except for the Rating column. We can deduce that the Rating of the apps was collected at different times, and the higher the number of ratings the app recieved, the more recent the app rating is.\n",
    "\n",
    "Hence this information, will allow us to know which duplicate rows to delete and which to leave.\n",
    "\n",
    "In this case, only the row with the highest rating in a duplicate set will not be deleted."
   ]
  },
  {
   "cell_type": "markdown",
   "metadata": {},
   "source": [
    "#### Seperate Highest Rating\n",
    "We will be creating a dictionary that stores the name of a unique app and it's rating.\n",
    "We then loop through the original playstore data, if the app name exist already, we check if the rating of the app is higher than the current one, if it isn't we update the rating of that app to be the higher one.\n",
    "If the app name does not exist, we create a new key value pair for the app and it's rating.\n",
    "\n",
    "At the end, we should have a dictionary that stores a unique app name and with the highest rating for that app."
   ]
  },
  {
   "cell_type": "code",
   "execution_count": 13,
   "metadata": {
    "collapsed": false
   },
   "outputs": [
    {
     "name": "stdout",
     "output_type": "stream",
     "text": [
      "9659\n"
     ]
    }
   ],
   "source": [
    "reviews_max = {}\n",
    "for app in playstore_data:\n",
    "    name = app[0]\n",
    "    number_of_reviews = float(app[3])\n",
    "    if name in reviews_max and reviews_max[name] < number_of_reviews:\n",
    "        reviews_max[name] = number_of_reviews\n",
    "    elif name not in reviews_max:\n",
    "        reviews_max[name] = number_of_reviews\n",
    "print(len(reviews_max))"
   ]
  },
  {
   "cell_type": "markdown",
   "metadata": {},
   "source": [
    "Once we have seperated the app name and highest rating for each app. We then create two empty lists.\n",
    "1. To store the clean, unique data\n",
    "2. A list to configure if we have already stored that data.\n",
    "\n",
    "We loop through the original dataset to check if the review for the current row is the same with the one in the dictionary (i.e it's the highest) AND if the app has not been added already in the clean data set.\n",
    "\n",
    "If both conditions are met, we append the data for that row to the clean data list and also to already added list.\n",
    "\n",
    "Lastly we print the length of the clean data list if it's matches that of the dictionary, which is 9659"
   ]
  },
  {
   "cell_type": "code",
   "execution_count": 14,
   "metadata": {
    "collapsed": false
   },
   "outputs": [
    {
     "name": "stdout",
     "output_type": "stream",
     "text": [
      "9659\n"
     ]
    }
   ],
   "source": [
    "clean_playstore_data = []\n",
    "already_added = []\n",
    "for app in playstore_data:\n",
    "    name = app[0]\n",
    "    number_of_reviews = float(app[3])\n",
    "    if (number_of_reviews == reviews_max[name]) and name not in already_added:\n",
    "        clean_playstore_data.append(app)\n",
    "        already_added.append(name)\n",
    "print(len(clean_playstore_data))"
   ]
  },
  {
   "cell_type": "markdown",
   "metadata": {},
   "source": [
    "To have consistent data and a single list.\n",
    "\n",
    "We delete all values in the playstore data, append all values from the clean data set, then delete the clean_playstore_data list we created."
   ]
  },
  {
   "cell_type": "code",
   "execution_count": 15,
   "metadata": {
    "collapsed": false
   },
   "outputs": [
    {
     "name": "stdout",
     "output_type": "stream",
     "text": [
      "0\n"
     ]
    }
   ],
   "source": [
    "playstore_data.clear()\n",
    "print(len(playstore_data))"
   ]
  },
  {
   "cell_type": "code",
   "execution_count": 16,
   "metadata": {
    "collapsed": false
   },
   "outputs": [
    {
     "name": "stdout",
     "output_type": "stream",
     "text": [
      "9659\n"
     ]
    }
   ],
   "source": [
    "for app in clean_playstore_data:\n",
    "    playstore_data.append(app)\n",
    "print(len(playstore_data))"
   ]
  },
  {
   "cell_type": "markdown",
   "metadata": {},
   "source": [
    "### Step 5: Removing Non-English Apps\n",
    "As the company develops only apps for an english-speaking audience, the analysation of apps will be limited to English apps.\n",
    "\n",
    "Two main steps will be carried out in this process:\n",
    "1. Remove all app names whose character's corresponding number is larger than 127. As all English characters according to the ASCII are within the range of 0 - 127.\n",
    "2. Filter out the non-english apps from the  english app\n",
    "3. Consolidate the original dataset."
   ]
  },
  {
   "cell_type": "code",
   "execution_count": 17,
   "metadata": {
    "collapsed": false
   },
   "outputs": [
    {
     "name": "stdout",
     "output_type": "stream",
     "text": [
      "True\n",
      "False\n",
      "True\n",
      "True\n"
     ]
    }
   ],
   "source": [
    "def is_English(string):\n",
    "    non_ascii = 0\n",
    "    for character in string:\n",
    "        if ord(character) > 127:\n",
    "            non_ascii += 1\n",
    "    if non_ascii > 3:\n",
    "        return False\n",
    "    return True\n",
    "print(is_English('Instagram'))\n",
    "print(is_English('爱奇艺PPS -《欢乐颂2》电视剧热播'))\n",
    "print(is_English('Docs To Go™ Free Office Suite'))\n",
    "print(is_English('Instachat 😜'))"
   ]
  },
  {
   "cell_type": "code",
   "execution_count": 18,
   "metadata": {
    "collapsed": false
   },
   "outputs": [],
   "source": [
    "english_Ios_Apps = []\n",
    "english_Playstore_Apps = []\n",
    "#IOS\n",
    "for app in appstore_data:\n",
    "    if is_English(app[1]): #Note the header column exist in the apple dataset.\n",
    "        english_Ios_Apps.append(app)\n",
    "#PLAYSTORE\n",
    "for app in playstore_data:\n",
    "    if is_English(app[0]):\n",
    "        english_Playstore_Apps.append(app)\n",
    "\n",
    "    "
   ]
  },
  {
   "cell_type": "code",
   "execution_count": 19,
   "metadata": {
    "collapsed": false
   },
   "outputs": [
    {
     "name": "stdout",
     "output_type": "stream",
     "text": [
      "6183\n",
      "9614\n"
     ]
    }
   ],
   "source": [
    "print(len(english_Ios_Apps))\n",
    "print(len(english_Playstore_Apps))"
   ]
  },
  {
   "cell_type": "code",
   "execution_count": 20,
   "metadata": {
    "collapsed": false
   },
   "outputs": [
    {
     "name": "stdout",
     "output_type": "stream",
     "text": [
      "9659\n",
      "7197\n",
      "9614\n",
      "6183\n"
     ]
    }
   ],
   "source": [
    "print(len(playstore_data))\n",
    "print(len(appstore_data))\n",
    "appstore_data.clear()\n",
    "playstore_data.clear()\n",
    "for app in english_Ios_Apps:\n",
    "    appstore_data.append(app)\n",
    "for app in english_Playstore_Apps:\n",
    "    playstore_data.append(app)\n",
    "print(len(playstore_data))\n",
    "print(len(appstore_data))  "
   ]
  },
  {
   "cell_type": "markdown",
   "metadata": {},
   "source": [
    "### Step 6: Isolate Free Apps \n",
    "As earlier mentioned above, only free apps are developed by the said company, which is why the source of revenue is in-app ads.\n",
    "Hence, we will have to distinct the free apps from the paid apps."
   ]
  },
  {
   "cell_type": "code",
   "execution_count": 21,
   "metadata": {
    "collapsed": false
   },
   "outputs": [
    {
     "name": "stdout",
     "output_type": "stream",
     "text": [
      "8864\n",
      "3222\n"
     ]
    }
   ],
   "source": [
    "android_final = []\n",
    "ios_final = []\n",
    "\n",
    "for app in appstore_data:\n",
    "    price = app[4]\n",
    "    if price == '0.0':\n",
    "        ios_final.append(app)\n",
    "        \n",
    "for app in playstore_data:\n",
    "    price = app[7]\n",
    "    if price == '0':\n",
    "        android_final.append(app)\n",
    "print(len(android_final))\n",
    "print(len(ios_final))"
   ]
  },
  {
   "cell_type": "code",
   "execution_count": 22,
   "metadata": {
    "collapsed": false
   },
   "outputs": [
    {
     "name": "stdout",
     "output_type": "stream",
     "text": [
      "9614\n",
      "6183\n",
      "8864\n",
      "3222\n"
     ]
    }
   ],
   "source": [
    "print(len(playstore_data))\n",
    "print(len(appstore_data))\n",
    "appstore_data.clear()\n",
    "playstore_data.clear()\n",
    "for app in ios_final:\n",
    "    appstore_data.append(app)\n",
    "for app in android_final:\n",
    "    playstore_data.append(app)\n",
    "print(len(playstore_data))\n",
    "print(len(appstore_data)) "
   ]
  },
  {
   "cell_type": "markdown",
   "metadata": {},
   "source": [
    "Finally, The Data is Cleaned, accurate, non-duplicated and \n",
    "thus ready for analysis.\n",
    "\n",
    "For the Appstore Dataset, we are left with 3222 rows and \n",
    "For the Playstore Dataset, we are left with 8864 rows"
   ]
  },
  {
   "cell_type": "markdown",
   "metadata": {},
   "source": [
    "### Step 7: Most common apps by Genre (Part 1)\n",
    "Since the revenue model of the apps (i.e in apps ads) is highly influenced by the number of users of the apps. Our main focus is to determine which apps are most popular in both APP-store and Playstore Market. \n",
    "\n",
    "We start this by analyzing the most popular genres.\n",
    "\n",
    "Based on the column of the two dataset. We need to build a frequency table for the prime_genre column from the App Store data and Genre, Category column from the playstore data."
   ]
  },
  {
   "cell_type": "code",
   "execution_count": 24,
   "metadata": {
    "collapsed": false
   },
   "outputs": [
    {
     "data": {
      "text/plain": [
       "{'Book': 0.4345127250155183,\n",
       " 'Business': 0.5276225946617008,\n",
       " 'Catalogs': 0.12414649286157665,\n",
       " 'Education': 3.662321539416512,\n",
       " 'Entertainment': 7.883302296710118,\n",
       " 'Finance': 1.1173184357541899,\n",
       " 'Food & Drink': 0.8069522036002483,\n",
       " 'Games': 58.16263190564867,\n",
       " 'Health & Fitness': 2.0173805090006205,\n",
       " 'Lifestyle': 1.5828677839851024,\n",
       " 'Medical': 0.186219739292365,\n",
       " 'Music': 2.0484171322160147,\n",
       " 'Navigation': 0.186219739292365,\n",
       " 'News': 1.3345747982619491,\n",
       " 'Photo & Video': 4.9658597144630665,\n",
       " 'Productivity': 1.7380509000620732,\n",
       " 'Reference': 0.5586592178770949,\n",
       " 'Shopping': 2.60707635009311,\n",
       " 'Social Networking': 3.2898820608317814,\n",
       " 'Sports': 2.1415270018621975,\n",
       " 'Travel': 1.2414649286157666,\n",
       " 'Utilities': 2.5139664804469275,\n",
       " 'Weather': 0.8690254500310366}"
      ]
     },
     "execution_count": 24,
     "metadata": {},
     "output_type": "execute_result"
    }
   ],
   "source": [
    "def freq_table(dataset, index):\n",
    "    column_table = {}\n",
    "    for row in dataset:\n",
    "        row_value_freq = row[index]\n",
    "        if row_value_freq in column_table:\n",
    "            column_table[row_value_freq] += 1\n",
    "        else:\n",
    "            column_table[row_value_freq] = 1\n",
    "    for key in column_table:\n",
    "        column_table[key] /= len(dataset)\n",
    "        column_table[key] *= 100\n",
    "    return column_table\n",
    "freq_table(appstore_data,11)"
   ]
  },
  {
   "cell_type": "markdown",
   "metadata": {},
   "source": [
    "After creating a function that generates a frequency table, we create another function that sorts the frequency table. By coonverting the dictionary into a set of tuples, and sorting the tuple in ascending order."
   ]
  },
  {
   "cell_type": "code",
   "execution_count": 29,
   "metadata": {
    "collapsed": false
   },
   "outputs": [],
   "source": [
    "def display_table(dataset, index):\n",
    "    table = freq_table(dataset, index)\n",
    "    table_display = []\n",
    "    for key in table:\n",
    "        key_val_as_tuple = (table[key], key)\n",
    "        table_display.append(key_val_as_tuple)\n",
    "\n",
    "    table_sorted = sorted(table_display, reverse = True)\n",
    "    for entry in table_sorted:\n",
    "        print(entry[1], ':', entry[0])\n"
   ]
  },
  {
   "cell_type": "markdown",
   "metadata": {},
   "source": [
    "#### Display Frequency Table for Appstore's Genre Column"
   ]
  },
  {
   "cell_type": "code",
   "execution_count": 42,
   "metadata": {
    "collapsed": false
   },
   "outputs": [
    {
     "name": "stdout",
     "output_type": "stream",
     "text": [
      "Games : 58.16263190564867\n",
      "Entertainment : 7.883302296710118\n",
      "Photo & Video : 4.9658597144630665\n",
      "Education : 3.662321539416512\n",
      "Social Networking : 3.2898820608317814\n",
      "Shopping : 2.60707635009311\n",
      "Utilities : 2.5139664804469275\n",
      "Sports : 2.1415270018621975\n",
      "Music : 2.0484171322160147\n",
      "Health & Fitness : 2.0173805090006205\n",
      "Productivity : 1.7380509000620732\n",
      "Lifestyle : 1.5828677839851024\n",
      "News : 1.3345747982619491\n",
      "Travel : 1.2414649286157666\n",
      "Finance : 1.1173184357541899\n",
      "Weather : 0.8690254500310366\n",
      "Food & Drink : 0.8069522036002483\n",
      "Reference : 0.5586592178770949\n",
      "Business : 0.5276225946617008\n",
      "Book : 0.4345127250155183\n",
      "Navigation : 0.186219739292365\n",
      "Medical : 0.186219739292365\n",
      "Catalogs : 0.12414649286157665\n"
     ]
    }
   ],
   "source": [
    "appstore_freq_genre = display_table(appstore_data, 11)\n",
    "appstore_freq_genre "
   ]
  },
  {
   "cell_type": "markdown",
   "metadata": {},
   "source": [
    "The top categories in the APPstore dataset are:\n",
    "1. Games\n",
    "2. Entertainment\n",
    "3. Photo and Video\n",
    "4. Education\n",
    "5. Social Networking\n",
    "\n",
    "We can say that most applications in the appstore dataset, are designed for fun, as games take a portion of over 50% of the data. This could be translated as there is high number of gamers using iOS software, the platform is good and healthy for gaming.\n",
    "\n",
    "Entertainment, Social Networking and Photos such as Streaming Apps, Youtube, Instagram also take a great portion in the appstore.\n",
    "\n",
    "At the very bottom, we have applications such as Medical, Navigation, Books, Business, Catalogs.\n",
    "\n",
    "The general impression we can gain from the short analysis of Free English Apps by Genre in the App Store Data set is that more Fun apps are developed for this software, and less practical apps. This could translate to the iOS devices being used for socializing, having fun, rather than practicality."
   ]
  },
  {
   "cell_type": "markdown",
   "metadata": {},
   "source": [
    "#### Display Frequency Table for Plasytore's Category Column"
   ]
  },
  {
   "cell_type": "code",
   "execution_count": 38,
   "metadata": {
    "collapsed": false
   },
   "outputs": [
    {
     "name": "stdout",
     "output_type": "stream",
     "text": [
      "FAMILY : 18.907942238267147\n",
      "GAME : 9.724729241877256\n",
      "TOOLS : 8.461191335740072\n",
      "BUSINESS : 4.591606498194946\n",
      "LIFESTYLE : 3.9034296028880866\n",
      "PRODUCTIVITY : 3.892148014440433\n",
      "FINANCE : 3.7003610108303246\n",
      "MEDICAL : 3.531137184115524\n",
      "SPORTS : 3.395758122743682\n",
      "PERSONALIZATION : 3.3167870036101084\n",
      "COMMUNICATION : 3.2378158844765346\n",
      "HEALTH_AND_FITNESS : 3.0798736462093865\n",
      "PHOTOGRAPHY : 2.944494584837545\n",
      "NEWS_AND_MAGAZINES : 2.7978339350180503\n",
      "SOCIAL : 2.6624548736462095\n",
      "TRAVEL_AND_LOCAL : 2.33528880866426\n",
      "SHOPPING : 2.2450361010830324\n",
      "BOOKS_AND_REFERENCE : 2.1435018050541514\n",
      "DATING : 1.861462093862816\n",
      "VIDEO_PLAYERS : 1.7937725631768955\n",
      "MAPS_AND_NAVIGATION : 1.3989169675090252\n",
      "FOOD_AND_DRINK : 1.2409747292418771\n",
      "EDUCATION : 1.1620036101083033\n",
      "ENTERTAINMENT : 0.9589350180505415\n",
      "LIBRARIES_AND_DEMO : 0.9363718411552346\n",
      "AUTO_AND_VEHICLES : 0.9250902527075812\n",
      "HOUSE_AND_HOME : 0.8235559566787004\n",
      "WEATHER : 0.8009927797833934\n",
      "EVENTS : 0.7107400722021661\n",
      "PARENTING : 0.6543321299638989\n",
      "ART_AND_DESIGN : 0.6430505415162455\n",
      "COMICS : 0.6204873646209386\n",
      "BEAUTY : 0.5979241877256317\n"
     ]
    }
   ],
   "source": [
    "playstore_freq_category = display_table(playstore_data,1)\n",
    "playstore_freq_category"
   ]
  },
  {
   "cell_type": "markdown",
   "metadata": {},
   "source": [
    "The top categories in the playstore dataset are:\n",
    "1. Family\n",
    "2. Games\n",
    "3. Tools \n",
    "4. Business\n",
    "5. Lifestyle"
   ]
  },
  {
   "cell_type": "markdown",
   "metadata": {},
   "source": [
    "#### Display Frequency Table for Plasytore's Genre Column"
   ]
  },
  {
   "cell_type": "code",
   "execution_count": 36,
   "metadata": {
    "collapsed": false
   },
   "outputs": [
    {
     "name": "stdout",
     "output_type": "stream",
     "text": [
      "Tools : 8.449909747292418\n",
      "Entertainment : 6.069494584837545\n",
      "Education : 5.347472924187725\n",
      "Business : 4.591606498194946\n",
      "Productivity : 3.892148014440433\n",
      "Lifestyle : 3.892148014440433\n",
      "Finance : 3.7003610108303246\n",
      "Medical : 3.531137184115524\n",
      "Sports : 3.463447653429603\n",
      "Personalization : 3.3167870036101084\n",
      "Communication : 3.2378158844765346\n",
      "Action : 3.1024368231046933\n",
      "Health & Fitness : 3.0798736462093865\n",
      "Photography : 2.944494584837545\n",
      "News & Magazines : 2.7978339350180503\n",
      "Social : 2.6624548736462095\n",
      "Travel & Local : 2.3240072202166067\n",
      "Shopping : 2.2450361010830324\n",
      "Books & Reference : 2.1435018050541514\n",
      "Simulation : 2.0419675090252705\n",
      "Dating : 1.861462093862816\n",
      "Arcade : 1.8501805054151623\n",
      "Video Players & Editors : 1.7712093862815883\n",
      "Casual : 1.7599277978339352\n",
      "Maps & Navigation : 1.3989169675090252\n",
      "Food & Drink : 1.2409747292418771\n",
      "Puzzle : 1.128158844765343\n",
      "Racing : 0.9927797833935018\n",
      "Role Playing : 0.9363718411552346\n",
      "Libraries & Demo : 0.9363718411552346\n",
      "Auto & Vehicles : 0.9250902527075812\n",
      "Strategy : 0.9138086642599278\n",
      "House & Home : 0.8235559566787004\n",
      "Weather : 0.8009927797833934\n",
      "Events : 0.7107400722021661\n",
      "Adventure : 0.6768953068592057\n",
      "Comics : 0.6092057761732852\n",
      "Beauty : 0.5979241877256317\n",
      "Art & Design : 0.5979241877256317\n",
      "Parenting : 0.4963898916967509\n",
      "Card : 0.45126353790613716\n",
      "Casino : 0.42870036101083037\n",
      "Trivia : 0.41741877256317694\n",
      "Educational;Education : 0.39485559566787\n",
      "Board : 0.3835740072202166\n",
      "Educational : 0.3722924187725632\n",
      "Education;Education : 0.33844765342960287\n",
      "Word : 0.2594765342960289\n",
      "Casual;Pretend Play : 0.236913357400722\n",
      "Music : 0.2030685920577617\n",
      "Racing;Action & Adventure : 0.16922382671480143\n",
      "Puzzle;Brain Games : 0.16922382671480143\n",
      "Entertainment;Music & Video : 0.16922382671480143\n",
      "Casual;Brain Games : 0.13537906137184114\n",
      "Casual;Action & Adventure : 0.13537906137184114\n",
      "Arcade;Action & Adventure : 0.12409747292418773\n",
      "Action;Action & Adventure : 0.10153429602888085\n",
      "Educational;Pretend Play : 0.09025270758122744\n",
      "Simulation;Action & Adventure : 0.078971119133574\n",
      "Parenting;Education : 0.078971119133574\n",
      "Entertainment;Brain Games : 0.078971119133574\n",
      "Board;Brain Games : 0.078971119133574\n",
      "Parenting;Music & Video : 0.06768953068592057\n",
      "Educational;Brain Games : 0.06768953068592057\n",
      "Casual;Creativity : 0.06768953068592057\n",
      "Art & Design;Creativity : 0.06768953068592057\n",
      "Education;Pretend Play : 0.056407942238267145\n",
      "Role Playing;Pretend Play : 0.04512635379061372\n",
      "Education;Creativity : 0.04512635379061372\n",
      "Role Playing;Action & Adventure : 0.033844765342960284\n",
      "Puzzle;Action & Adventure : 0.033844765342960284\n",
      "Entertainment;Creativity : 0.033844765342960284\n",
      "Entertainment;Action & Adventure : 0.033844765342960284\n",
      "Educational;Creativity : 0.033844765342960284\n",
      "Educational;Action & Adventure : 0.033844765342960284\n",
      "Education;Music & Video : 0.033844765342960284\n",
      "Education;Brain Games : 0.033844765342960284\n",
      "Education;Action & Adventure : 0.033844765342960284\n",
      "Adventure;Action & Adventure : 0.033844765342960284\n",
      "Video Players & Editors;Music & Video : 0.02256317689530686\n",
      "Sports;Action & Adventure : 0.02256317689530686\n",
      "Simulation;Pretend Play : 0.02256317689530686\n",
      "Puzzle;Creativity : 0.02256317689530686\n",
      "Music;Music & Video : 0.02256317689530686\n",
      "Entertainment;Pretend Play : 0.02256317689530686\n",
      "Casual;Education : 0.02256317689530686\n",
      "Board;Action & Adventure : 0.02256317689530686\n",
      "Video Players & Editors;Creativity : 0.01128158844765343\n",
      "Trivia;Education : 0.01128158844765343\n",
      "Travel & Local;Action & Adventure : 0.01128158844765343\n",
      "Tools;Education : 0.01128158844765343\n",
      "Strategy;Education : 0.01128158844765343\n",
      "Strategy;Creativity : 0.01128158844765343\n",
      "Strategy;Action & Adventure : 0.01128158844765343\n",
      "Simulation;Education : 0.01128158844765343\n",
      "Role Playing;Brain Games : 0.01128158844765343\n",
      "Racing;Pretend Play : 0.01128158844765343\n",
      "Puzzle;Education : 0.01128158844765343\n",
      "Parenting;Brain Games : 0.01128158844765343\n",
      "Music & Audio;Music & Video : 0.01128158844765343\n",
      "Lifestyle;Pretend Play : 0.01128158844765343\n",
      "Lifestyle;Education : 0.01128158844765343\n",
      "Health & Fitness;Education : 0.01128158844765343\n",
      "Health & Fitness;Action & Adventure : 0.01128158844765343\n",
      "Entertainment;Education : 0.01128158844765343\n",
      "Communication;Creativity : 0.01128158844765343\n",
      "Comics;Creativity : 0.01128158844765343\n",
      "Casual;Music & Video : 0.01128158844765343\n",
      "Card;Action & Adventure : 0.01128158844765343\n",
      "Books & Reference;Education : 0.01128158844765343\n",
      "Art & Design;Pretend Play : 0.01128158844765343\n",
      "Art & Design;Action & Adventure : 0.01128158844765343\n",
      "Arcade;Pretend Play : 0.01128158844765343\n",
      "Adventure;Education : 0.01128158844765343\n"
     ]
    }
   ],
   "source": [
    "playstore_freq_genre = display_table(playstore_data,9)\n",
    "playstore_freq_genre"
   ]
  },
  {
   "cell_type": "markdown",
   "metadata": {},
   "source": [
    "The Category Column and Genre column in the playstore dataset, differ in that the Genre column is way more granular, whereas the category column is broader.\n",
    "\n",
    "However, we can see some intersection in the top popular apps in both columns. Which includes, tools, business, productivity and games.\n",
    "\n",
    "We can here deduce that more practical applications are being developed for the Playstore market. However, Games also have a high number in the dataset, with about 10%. \n",
    "\n",
    "The Playstore market seems to have a more balanced scale between practical apps and social/fun apps on it's software."
   ]
  },
  {
   "cell_type": "markdown",
   "metadata": {},
   "source": [
    "#### Analyzing Most Common Apps by Genre.\n",
    "\n",
    "Upon gaining the information on what applications are popular in the dataset, we need to know which genres have the highest number of installments by users.\n",
    "\n",
    "The Google Dataset, has the Install column where we can fetch this number from. And for the iOS dataset, we will be making use of the number of rating.\n",
    "\n",
    "We do this by storing the frequency table in a varible. We loop through the key of the frequency table i.e the genres.\n",
    "\n",
    "A nested loop for the overall  dataset will be utilized in this case, this helps in comparing the current genre in the dataset with the genre in the frequency table. We extract the rating value of the app in that genre, and add up with the rating values of other apps in the same genre. \n",
    "\n",
    "Lastly the average ratings of all the apps in the genre is calculated."
   ]
  },
  {
   "cell_type": "code",
   "execution_count": 44,
   "metadata": {
    "collapsed": false
   },
   "outputs": [
    {
     "name": "stdout",
     "output_type": "stream",
     "text": [
      "Travel :  28243.8\n",
      "Productivity :  21028.410714285714\n",
      "Business :  7491.117647058823\n",
      "Book :  39758.5\n",
      "Utilities :  18684.456790123455\n",
      "Medical :  612.0\n",
      "Sports :  23008.898550724636\n",
      "Education :  7003.983050847458\n",
      "Food & Drink :  33333.92307692308\n",
      "Entertainment :  14029.830708661417\n",
      "News :  21248.023255813954\n",
      "Navigation :  86090.33333333333\n",
      "Shopping :  26919.690476190477\n",
      "Social Networking :  71548.34905660378\n",
      "Weather :  52279.892857142855\n",
      "Music :  57326.530303030304\n",
      "Photo & Video :  28441.54375\n",
      "Catalogs :  4004.0\n",
      "Finance :  31467.944444444445\n",
      "Games :  22788.6696905016\n",
      "Health & Fitness :  23298.015384615384\n",
      "Lifestyle :  16485.764705882353\n",
      "Reference :  74942.11111111111\n"
     ]
    }
   ],
   "source": [
    "appstore_genres = freq_table(appstore_data, 11)\n",
    "\n",
    "for genre in appstore_genres:\n",
    "    total  = 0\n",
    "    len_genre = 0\n",
    "    for app in appstore_data:\n",
    "        genre_app = app[11]\n",
    "        if genre_app == genre:\n",
    "            rating = float(app[5])\n",
    "            total += rating\n",
    "            len_genre += 1\n",
    "    average_rating = total / len_genre\n",
    "    print(genre, ': ', average_rating)\n"
   ]
  },
  {
   "cell_type": "markdown",
   "metadata": {},
   "source": [
    "### Recommendation for Appstore Market Only\n",
    "The Genres with the Highest reviews in descending order are:\n",
    "1. Navigation\n",
    "2. Reference\n",
    "3. Social Networking\n",
    "4. Weather.\n",
    "\n",
    "If we couple this finding along with the previous analysis of what applications are the highest by genre in the App-Store.\n",
    "\n",
    "The best recommendation of what application to develop for the iOS store will be 'Social Networking'. As it has a high percenatge of users and popularity."
   ]
  },
  {
   "cell_type": "code",
   "execution_count": 45,
   "metadata": {
    "collapsed": false
   },
   "outputs": [
    {
     "name": "stdout",
     "output_type": "stream",
     "text": [
      "PRODUCTIVITY :  16787331.344927534\n",
      "MEDICAL :  120550.61980830671\n",
      "SHOPPING :  7036877.311557789\n",
      "MAPS_AND_NAVIGATION :  4056941.7741935486\n",
      "TOOLS :  10801391.298666667\n",
      "FAMILY :  3695641.8198090694\n",
      "PHOTOGRAPHY :  17840110.40229885\n",
      "SPORTS :  3638640.1428571427\n",
      "EVENTS :  253542.22222222222\n",
      "GAME :  15588015.603248259\n",
      "BEAUTY :  513151.88679245283\n",
      "BUSINESS :  1712290.1474201474\n",
      "COMMUNICATION :  38456119.167247385\n",
      "VIDEO_PLAYERS :  24727872.452830188\n",
      "WEATHER :  5074486.197183099\n",
      "LIBRARIES_AND_DEMO :  638503.734939759\n",
      "AUTO_AND_VEHICLES :  647317.8170731707\n",
      "ENTERTAINMENT :  11640705.88235294\n",
      "LIFESTYLE :  1437816.2687861272\n",
      "BOOKS_AND_REFERENCE :  8767811.894736841\n",
      "ART_AND_DESIGN :  1986335.0877192982\n",
      "PERSONALIZATION :  5201482.6122448975\n",
      "PARENTING :  542603.6206896552\n",
      "FINANCE :  1387692.475609756\n",
      "EDUCATION :  1833495.145631068\n",
      "HEALTH_AND_FITNESS :  4188821.9853479853\n",
      "COMICS :  817657.2727272727\n",
      "HOUSE_AND_HOME :  1331540.5616438356\n",
      "FOOD_AND_DRINK :  1924897.7363636363\n",
      "NEWS_AND_MAGAZINES :  9549178.467741935\n",
      "DATING :  854028.8303030303\n",
      "SOCIAL :  23253652.127118643\n",
      "TRAVEL_AND_LOCAL :  13984077.710144928\n"
     ]
    }
   ],
   "source": [
    "playstore_categories = freq_table(playstore_data,1)\n",
    "\n",
    "for category in playstore_categories:\n",
    "    total_install = 0\n",
    "    len_category = 0\n",
    "    for app in playstore_data:\n",
    "        category_app = app[1]\n",
    "        if category_app == category:\n",
    "            num_install = app[5]\n",
    "            num_install = num_install.replace('+', '')\n",
    "            num_install = num_install.replace(',', '')\n",
    "            total_install += float(num_install)\n",
    "            len_category += 1\n",
    "    average_install = total_install / len_category\n",
    "    print(category, ': ', average_install)"
   ]
  },
  {
   "cell_type": "markdown",
   "metadata": {},
   "source": [
    "### Recommendation for PlayStore Market Only.\n",
    "The numbers for the playstore dataset, are higher than that of the appstore dataset. To use the crietria for recommendation used for the appstore. We will get to the top popular categories we obtained by genres which are:\n",
    "1. Family\n",
    "2. Games\n",
    "3. Tools \n",
    "4. Business\n",
    "5. Lifestyle\n",
    "\n",
    "And Contrast them with the Top 5 installments which are:\n",
    "COMMUNICATION = 38456119.167247385\n",
    "VIDEO_PLAYERS : 24727872.452830188\n",
    "SOCIAL = 23253652.127118643\n",
    "PRODUCTIVITY : 16787331.344927534\n",
    "GAME = 15588015.603248259\n",
    "\n",
    "\n",
    "As we can see productvity tools are in not only popular in the playstore market, but also has a high amount of installments. Games are also a ruling force in the Playstore, with a high number of users, and popularity in the market. \n",
    "\n",
    "Communication tools although do not have a high popularity in the playstore, they do carry the highest number of users. The Communication tools which includes the likes of Whatsapp, Skype, Hangout, are most considered and lumped together with social media apps like Facebook, Twitter, Snapchat. \n",
    "\n",
    "Although in this dataset, a distinction between the two is made. Social Media apps still have one of the highest number of installments from the playstore.\n",
    "\n",
    "Thus a recommendation for the playstore market are Productivity Tools, Apps that encompass both Social Media and Communication and Games."
   ]
  },
  {
   "cell_type": "markdown",
   "metadata": {},
   "source": [
    "### Recommendation For Both AppStore & Playstore Markets.\n",
    "\n",
    "There seems to be an intersection of what will survive, have a high amount of users, is popular in both markets and thus, will be suitable for both markets.\n",
    "\n",
    "And that is **Social and Games**. \n",
    "\n",
    "Social Networking has the highest rating in the Appstore market, Games hold the most popular in the Appstore market which accounts for about 50% of the platform.\n",
    "\n",
    "In comparison, \n",
    "Communication & Social have one of the highest installments for the playstore market. Games is also the secoond most popular app genre in the playstore.\n",
    "\n",
    "In Conclusion, Social and Games sounds like the best fit option for Free English App for both the Play Store and App Store Market."
   ]
  },
  {
   "cell_type": "markdown",
   "metadata": {
    "collapsed": true
   },
   "source": [
    "&copy; All Rights Reserved - Khadijah Lawal Shuaib 2019."
   ]
  }
 ],
 "metadata": {
  "kernelspec": {
   "display_name": "Python 3",
   "language": "python",
   "name": "python3"
  },
  "language_info": {
   "codemirror_mode": {
    "name": "ipython",
    "version": 3
   },
   "file_extension": ".py",
   "mimetype": "text/x-python",
   "name": "python",
   "nbconvert_exporter": "python",
   "pygments_lexer": "ipython3",
   "version": "3.4.3"
  }
 },
 "nbformat": 4,
 "nbformat_minor": 2
}
